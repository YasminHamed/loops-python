{
 "cells": [
  {
   "cell_type": "code",
   "execution_count": null,
   "id": "2fd6635d",
   "metadata": {},
   "outputs": [],
   "source": [
    "# while 2<5:\n",
    "#     print(\"2<5 always\")"
   ]
  },
  {
   "cell_type": "code",
   "execution_count": 1,
   "id": "3ba3ec18",
   "metadata": {},
   "outputs": [
    {
     "name": "stdout",
     "output_type": "stream",
     "text": [
      "1\n",
      "2\n",
      "3\n",
      "4\n",
      "5\n",
      "6\n",
      "7\n",
      "8\n",
      "9\n",
      "10\n"
     ]
    }
   ],
   "source": [
    "number = 1\n",
    "while number <= 10:\n",
    "    print (number)\n",
    "    number+=1"
   ]
  },
  {
   "cell_type": "code",
   "execution_count": 2,
   "id": "f7cd1dd5",
   "metadata": {},
   "outputs": [
    {
     "name": "stdout",
     "output_type": "stream",
     "text": [
      "2\n",
      "3\n",
      "4\n",
      "5\n",
      "6\n",
      "7\n",
      "8\n",
      "9\n",
      "10\n",
      "11\n",
      "Done\n"
     ]
    }
   ],
   "source": [
    "number = 1\n",
    "case =15\n",
    "while number <= 10:\n",
    "    number+=1\n",
    "    if number == case:\n",
    "        break\n",
    "    print (number)\n",
    "else:\n",
    "    print(\"Done\")"
   ]
  },
  {
   "cell_type": "code",
   "execution_count": 1,
   "id": "5bc977dc",
   "metadata": {},
   "outputs": [
    {
     "name": "stdout",
     "output_type": "stream",
     "text": [
      "Enter your height: 165\n"
     ]
    }
   ],
   "source": [
    "#initialization\n",
    "height = input(\"Enter your height: \")  \n",
    "\n",
    "#codition\n",
    "while float(height) < 165:\n",
    "    print(\"You are short\")\n"
   ]
  },
  {
   "cell_type": "code",
   "execution_count": 2,
   "id": "90fd3627",
   "metadata": {},
   "outputs": [
    {
     "name": "stdout",
     "output_type": "stream",
     "text": [
      "1,2,3,4,5,"
     ]
    }
   ],
   "source": [
    "#initialization\n",
    "x = 1\n",
    "\n",
    "#codition\n",
    "while x <= 5:\n",
    "    print(x,end=',')\n",
    "#increment step\n",
    "    x=x+1"
   ]
  },
  {
   "cell_type": "code",
   "execution_count": 4,
   "id": "32c12890",
   "metadata": {},
   "outputs": [
    {
     "name": "stdout",
     "output_type": "stream",
     "text": [
      "Enter first value1\n",
      "Enter second value2\n",
      "Your value is: 1\n",
      "Your value is: 3\n",
      "Your value is: 5\n",
      "Your value is: 7\n",
      "Your value is: 9\n"
     ]
    }
   ],
   "source": [
    "val = int(input(\"Enter first value\"))\n",
    "val2 = int(input(\"Enter second value\"))\n",
    "while val <= 10:\n",
    "    print(\"Your value is:\",val)\n",
    "    val+=val2"
   ]
  },
  {
   "cell_type": "code",
   "execution_count": 12,
   "id": "6e4ad9e6",
   "metadata": {},
   "outputs": [
    {
     "name": "stdout",
     "output_type": "stream",
     "text": [
      "1\n"
     ]
    }
   ],
   "source": [
    "x = 1\n",
    "sum = 0\n",
    "while x <= 1:\n",
    "    sum += x\n",
    "    x = x + 1\n",
    "print(sum)"
   ]
  },
  {
   "cell_type": "code",
   "execution_count": 13,
   "id": "72fa8208",
   "metadata": {},
   "outputs": [
    {
     "name": "stdout",
     "output_type": "stream",
     "text": [
      "2 3\n",
      "0.6666666666666666\n",
      "6 2\n",
      "3.0\n",
      "0 0\n",
      "Y is zero!\n",
      "Bye\n"
     ]
    }
   ],
   "source": [
    "while True:\n",
    "    x,y = map(float, input().split())\n",
    "    if y == 0:\n",
    "        print(\"Y is zero!\")\n",
    "        break\n",
    "    print(x/y)\n",
    "print(\"Bye\")"
   ]
  },
  {
   "cell_type": "code",
   "execution_count": 1,
   "id": "e4f18191",
   "metadata": {
    "scrolled": true
   },
   "outputs": [
    {
     "name": "stdout",
     "output_type": "stream",
     "text": [
      "1 2\n",
      "0.5\n",
      "4009 2\n",
      "2004.5\n",
      "234 54\n",
      "4.333333333333333\n",
      "0 0\n",
      "Y is zero!\n",
      "Bye\n"
     ]
    }
   ],
   "source": [
    "while True:\n",
    "    x,y = map(float, input().split())\n",
    "    if y == 0:\n",
    "        print(\"Y is zero!\")\n",
    "#         continue\n",
    "        break\n",
    "    print(x/y)\n",
    "print(\"Bye\")"
   ]
  },
  {
   "cell_type": "code",
   "execution_count": 1,
   "id": "15b0c685",
   "metadata": {},
   "outputs": [
    {
     "name": "stdout",
     "output_type": "stream",
     "text": [
      "3\n",
      "10\n",
      "Sum from 1 to 10 = 55\n",
      "4\n",
      "Sum from 1 to 4 = 10\n",
      "2\n",
      "Sum from 1 to 2 = 3\n"
     ]
    }
   ],
   "source": [
    "T = int(input())\n",
    "while T > 0:\n",
    "    num = int(input())\n",
    "\n",
    "    Sum = 0\n",
    "    Start = 1\n",
    "    \n",
    "    while Start <= num:\n",
    "        Sum += Start\n",
    "        Start +=1\n",
    "    T -= 1 \n",
    "    print(\"Sum from 1 to\",num,\"=\",Sum)"
   ]
  },
  {
   "cell_type": "code",
   "execution_count": 5,
   "id": "a33368f0",
   "metadata": {},
   "outputs": [
    {
     "name": "stdout",
     "output_type": "stream",
     "text": [
      "10\n",
      "*\n",
      "**\n",
      "***\n",
      "****\n",
      "*****\n",
      "******\n",
      "*******\n",
      "********\n",
      "*********\n",
      "**********\n"
     ]
    }
   ],
   "source": [
    "n = int(input())\n",
    "row = 1\n",
    "while row <= n:\n",
    "    stars_count = 1 \n",
    "    \n",
    "    while stars_count <= row:\n",
    "        print(\"*\",end='')\n",
    "        stars_count += 1\n",
    "    print()\n",
    "    row += 1"
   ]
  },
  {
   "cell_type": "code",
   "execution_count": 6,
   "id": "6f842ac1",
   "metadata": {},
   "outputs": [
    {
     "name": "stdout",
     "output_type": "stream",
     "text": [
      "Orange\n",
      "Apple\n",
      "Banana\n"
     ]
    }
   ],
   "source": [
    "fruits = [\"Orange\", \"Apple\", \"Banana\"]\n",
    "\n",
    "for x in fruits:\n",
    "    print(x)\n"
   ]
  },
  {
   "cell_type": "code",
   "execution_count": 7,
   "id": "20b9bd9d",
   "metadata": {},
   "outputs": [
    {
     "name": "stdout",
     "output_type": "stream",
     "text": [
      "H\n",
      "e\n",
      "l\n",
      "l\n",
      "!\n"
     ]
    }
   ],
   "source": [
    "word = \"Hello!\"\n",
    "for char in word:\n",
    "    if char == 'o':\n",
    "        continue\n",
    "    print(char)"
   ]
  },
  {
   "cell_type": "code",
   "execution_count": null,
   "id": "da4bbaaf",
   "metadata": {},
   "outputs": [],
   "source": []
  }
 ],
 "metadata": {
  "kernelspec": {
   "display_name": "Python 3 (ipykernel)",
   "language": "python",
   "name": "python3"
  },
  "language_info": {
   "codemirror_mode": {
    "name": "ipython",
    "version": 3
   },
   "file_extension": ".py",
   "mimetype": "text/x-python",
   "name": "python",
   "nbconvert_exporter": "python",
   "pygments_lexer": "ipython3",
   "version": "3.9.12"
  }
 },
 "nbformat": 4,
 "nbformat_minor": 5
}
